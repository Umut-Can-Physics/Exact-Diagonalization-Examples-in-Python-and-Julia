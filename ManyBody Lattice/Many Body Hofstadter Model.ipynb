{
 "cells": [
  {
   "cell_type": "code",
   "execution_count": 1,
   "id": "7f06f9a2",
   "metadata": {},
   "outputs": [],
   "source": [
    "using QuantumOptics\n",
    "using LinearAlgebra\n",
    "using SparseArrays"
   ]
  },
  {
   "cell_type": "markdown",
   "id": "d150595a",
   "metadata": {},
   "source": [
    "# The Boson Fock Space "
   ]
  },
  {
   "cell_type": "code",
   "execution_count": 2,
   "id": "a7e38dc8",
   "metadata": {},
   "outputs": [],
   "source": [
    "max_occupation_number = 2\n",
    "occ_array = []\n",
    "for i in 0:max_occupation_number\n",
    "    push!(occ_array, i)\n",
    "end"
   ]
  },
  {
   "cell_type": "code",
   "execution_count": 3,
   "id": "06ff3bea",
   "metadata": {},
   "outputs": [
    {
     "data": {
      "text/plain": [
       "NLevel(N=4)"
      ]
     },
     "execution_count": 3,
     "metadata": {},
     "output_type": "execute_result"
    }
   ],
   "source": [
    "Nx = Ny = 2\n",
    "N = Nx*Ny \n",
    "b = NLevelBasis(N)"
   ]
  },
  {
   "cell_type": "code",
   "execution_count": 4,
   "id": "d85672cc",
   "metadata": {},
   "outputs": [
    {
     "name": "stdout",
     "output_type": "stream",
     "text": [
      "1: [0, 0, 0, 0]\n",
      "2: [1, 0, 0, 0]\n",
      "3: [0, 1, 0, 0]\n",
      "4: [0, 0, 1, 0]\n",
      "5: [0, 0, 0, 1]\n",
      "6: [2, 0, 0, 0]\n",
      "7: [1, 1, 0, 0]\n",
      "8: [1, 0, 1, 0]\n",
      "9: [1, 0, 0, 1]\n",
      "10: [0, 2, 0, 0]\n",
      "11: [0, 1, 1, 0]\n",
      "12: [0, 1, 0, 1]\n",
      "13: [0, 0, 2, 0]\n",
      "14: [0, 0, 1, 1]\n",
      "15: [0, 0, 0, 2]\n"
     ]
    }
   ],
   "source": [
    "states = bosonstates(b, [occ_array...]) #en az 0 en fazla 2 bozon\n",
    "for i in 1:length(states)\n",
    "    println(\"$i: \", states[i])\n",
    "end"
   ]
  },
  {
   "cell_type": "code",
   "execution_count": 5,
   "id": "fbffc0ef",
   "metadata": {},
   "outputs": [
    {
     "data": {
      "text/plain": [
       "ManyBody(onebodybasis=NLevel(N=4), states:15)"
      ]
     },
     "execution_count": 5,
     "metadata": {},
     "output_type": "execute_result"
    }
   ],
   "source": [
    "b_mb_b = ManyBodyBasis(b, states)"
   ]
  },
  {
   "cell_type": "markdown",
   "id": "9796d4d7",
   "metadata": {},
   "source": [
    "# The Periodic Lattice "
   ]
  },
  {
   "cell_type": "code",
   "execution_count": 6,
   "id": "d12b79c5",
   "metadata": {},
   "outputs": [],
   "source": [
    "using OffsetArrays"
   ]
  },
  {
   "cell_type": "code",
   "execution_count": 7,
   "id": "b6c8bc6b",
   "metadata": {},
   "outputs": [
    {
     "data": {
      "text/plain": [
       "2×2 OffsetArray(reshape(::UnitRange{Int64}, 2, 2), 0:1, 0:1) with eltype Int64 with indices 0:1×0:1:\n",
       " 1  3\n",
       " 2  4"
      ]
     },
     "execution_count": 7,
     "metadata": {},
     "output_type": "execute_result"
    }
   ],
   "source": [
    "lat = range(1,Nx*Ny)\n",
    "latt = reshape(lat, (Nx,Ny))\n",
    "lattice = OffsetArray(latt, 0:Nx-1, 0:Ny-1)\n",
    "x_co = range(0, Nx-1) \n",
    "y_co = range(0, Ny-1)\n",
    "arr = []\n",
    "for i in 1:length(x_co)\n",
    "    for j in 1:length(y_co)\n",
    "       arr = [arr;x_co[i];y_co[j]]\n",
    "    end\n",
    "end\n",
    "xy = reshape(arr, (2,Nx*Ny)) |> transpose\n",
    "arr = OffsetArray(arr,0:Nx*Ny*2-1)\n",
    "lattice"
   ]
  },
  {
   "cell_type": "code",
   "execution_count": 8,
   "id": "bd771879",
   "metadata": {},
   "outputs": [
    {
     "data": {
      "text/plain": [
       "PerBC (generic function with 1 method)"
      ]
     },
     "execution_count": 8,
     "metadata": {},
     "output_type": "execute_result"
    }
   ],
   "source": [
    "x = []\n",
    "function PerBC()\n",
    "    for i in 0:Nx-1\n",
    "        for j in 0:Ny-1\n",
    "            cc = [lattice[mod(j,Ny),mod(i-1,Nx)],lattice[mod(j+1,Ny),mod(i,Nx)],lattice[mod(j,Ny),mod(i+1,Nx)],lattice[mod(j-1,Ny),mod(i,Nx)]]\n",
    "            push!(x,cc)\n",
    "        end\n",
    "    end\n",
    "    return x\n",
    "end"
   ]
  },
  {
   "cell_type": "markdown",
   "id": "346e3aed",
   "metadata": {},
   "source": [
    "# Hopping Phase Values"
   ]
  },
  {
   "cell_type": "code",
   "execution_count": 9,
   "id": "c65652af",
   "metadata": {},
   "outputs": [
    {
     "data": {
      "text/plain": [
       "HP (generic function with 1 method)"
      ]
     },
     "execution_count": 9,
     "metadata": {},
     "output_type": "execute_result"
    }
   ],
   "source": [
    "function HP(m, n, alpha)\n",
    "    if abs(xy[m,1]-xy[n,1])==Nx-1\n",
    "        if xy[m,1] > xy[n,1]\n",
    "            A = -exp(-1im*2*pi*alpha*xy[m,2])\n",
    "            #println(m,\" -> \",n,\" Kenarda x+ ve faz: \", A)\n",
    "        elseif xy[m,1] < xy[n,1]\n",
    "            A = -exp(1im*2*pi*alpha*xy[m,2])\n",
    "            #println(m,\" -> \",n,\" Kenarda x- ve faz: \", A)\n",
    "        end\n",
    "    elseif m==n\n",
    "        A = 0\n",
    "        #println(m, \" -> \", n, \" Aynı noktalar ve faz: \", A)\n",
    "    else\n",
    "        if xy[m,1] > xy[n,1]\n",
    "            A = -exp(1im*2*pi*alpha*xy[m,2])\n",
    "            #println(m,\" -> \",n,\" x- ve faz: \", A)\n",
    "        elseif xy[m,1] < xy[n,1]\n",
    "            A = -exp(-1im*2*pi*alpha*xy[m,2])\n",
    "            #println(m,\" -> \",n,\" x+ ve faz: \", A)\n",
    "        else\n",
    "            A = -exp(0)\n",
    "            #println(m,\" -> \",n,\" x sabit ve faz: \", A)\n",
    "        end\n",
    "    end\n",
    "end "
   ]
  },
  {
   "cell_type": "markdown",
   "id": "ad73fa39",
   "metadata": {},
   "source": [
    "# Many Body Hamiltonian"
   ]
  },
  {
   "cell_type": "code",
   "execution_count": 10,
   "id": "7ae4c03f",
   "metadata": {},
   "outputs": [
    {
     "data": {
      "text/plain": [
       "15-element Vector{Float64}:\n",
       " -3.8042260651806123\n",
       " -2.5201470213402026\n",
       " -1.9021130325903073\n",
       " -1.2840790438404133\n",
       " -1.2360679774997896\n",
       " -0.6180339887498951\n",
       " -6.309410158126471e-16\n",
       " -3.481734714142872e-16\n",
       "  0.0\n",
       "  0.6180339887498951\n",
       "  1.2360679774997878\n",
       "  1.2840790438404117\n",
       "  1.9021130325903073\n",
       "  2.520147021340204\n",
       "  3.8042260651806146"
      ]
     },
     "execution_count": 10,
     "metadata": {},
     "output_type": "execute_result"
    }
   ],
   "source": [
    "alpha = 1/5\n",
    "S = SparseOperator(b_mb_b)\n",
    "for m in 1:N\n",
    "    for n in 1:N\n",
    "        if m in PerBC()[n]\n",
    "            S = S + HP(m, n, alpha)*transition(b_mb_b, m, n)\n",
    "        end\n",
    "    end\n",
    "end\n",
    "S\n",
    "eigenenergies(dense(S))"
   ]
  },
  {
   "cell_type": "markdown",
   "id": "e150614d",
   "metadata": {},
   "source": [
    "# Hopping Phase Values with Twisted Angle Parameters"
   ]
  },
  {
   "cell_type": "code",
   "execution_count": 11,
   "id": "08664cf5",
   "metadata": {},
   "outputs": [
    {
     "data": {
      "text/plain": [
       "0.0:0.3141592653589793:6.283185307179586"
      ]
     },
     "execution_count": 11,
     "metadata": {},
     "output_type": "execute_result"
    }
   ],
   "source": [
    "Tsize=20\n",
    "dx=2*pi/Tsize\n",
    "dy=dx\n",
    "Tx=range(start=0, stop=2*pi, step=dx) #şimdilik 1'den başlatıyorum. Chern yanlış hesaplarsam burayla ilgilenicem(!)\n",
    "Ty=range(start=0, stop=2*pi, step=dy) "
   ]
  },
  {
   "cell_type": "code",
   "execution_count": 12,
   "id": "5b0db13f",
   "metadata": {
    "scrolled": true
   },
   "outputs": [
    {
     "data": {
      "text/plain": [
       "HPTA (generic function with 1 method)"
      ]
     },
     "execution_count": 12,
     "metadata": {},
     "output_type": "execute_result"
    }
   ],
   "source": [
    "q=Nx\n",
    "ChernAlpha=1/q\n",
    "function HPTA(m, n, Tx, Ty, ChernAlpha)\n",
    "    if abs(xy[m,1]-xy[n,1])==Nx-1\n",
    "        if xy[m,1] > xy[n,1]\n",
    "            B = -exp(-1im*2*pi*ChernAlpha*xy[m,2])*exp(-1im*Tx)\n",
    "        elseif xy[m,1] < xy[n,1]\n",
    "            B = -exp(1im*2*pi*ChernAlpha*xy[m,2])*exp(1im*Tx)\n",
    "        end\n",
    "    elseif abs(xy[m,2]-xy[n,2])==Ny-1\n",
    "        if xy[m,2] > xy[n,2]\n",
    "            B = -exp(-1im*Ty)\n",
    "        elseif xy[m,2] < xy[n,2]\n",
    "            B = -exp(1im*Ty)\n",
    "        end\n",
    "    elseif m==n\n",
    "        B = 0\n",
    "    else\n",
    "        if xy[m,1] > xy[n,1]\n",
    "            B = -exp(1im*2*pi*ChernAlpha*xy[m,2])\n",
    "        elseif xy[m,1] < xy[n,1]\n",
    "            B = -exp(-1im*2*pi*ChernAlpha*xy[m,2])\n",
    "        else\n",
    "            B = -exp(0)\n",
    "        end\n",
    "    end\n",
    "end "
   ]
  },
  {
   "cell_type": "markdown",
   "id": "ee7ceadd",
   "metadata": {},
   "source": [
    "# Many Body Chern Calculations"
   ]
  },
  {
   "cell_type": "code",
   "execution_count": 13,
   "id": "32ad44a3",
   "metadata": {},
   "outputs": [
    {
     "data": {
      "text/plain": [
       "HMTA (generic function with 1 method)"
      ]
     },
     "execution_count": 13,
     "metadata": {},
     "output_type": "execute_result"
    }
   ],
   "source": [
    "function HMTA(ChernAlpha, Tx, Ty)\n",
    "    STA = SparseOperator(b_mb_b)\n",
    "    for m in 1:N\n",
    "        for n in 1:N\n",
    "            if m in PerBC()[n]\n",
    "                STA = STA + HPTA(m, n, Tx, Ty, ChernAlpha)*transition(b_mb_b, m, n)\n",
    "            end\n",
    "        end\n",
    "    end\n",
    "    return STA\n",
    "end"
   ]
  },
  {
   "cell_type": "code",
   "execution_count": 16,
   "id": "eba111b4",
   "metadata": {},
   "outputs": [
    {
     "data": {
      "text/plain": [
       "15×15 SparseMatrixCSC{ComplexF64, Int64} with 97 stored entries:\n",
       "     ⋅          ⋅                     ⋅           …       0.5-0.0im\n",
       "     ⋅          ⋅                     ⋅                       ⋅    \n",
       "     ⋅          ⋅                     ⋅                       ⋅    \n",
       "     ⋅          ⋅            0.208073-0.454649im              ⋅    \n",
       "     ⋅      0.0+0.707107im    0.07056-0.494996im              ⋅    \n",
       "     ⋅          ⋅                     ⋅           …           ⋅    \n",
       " 1.0+0.0im      ⋅                     ⋅                       ⋅    \n",
       "     ⋅          ⋅                     ⋅                       ⋅    \n",
       "     ⋅          ⋅                     ⋅                       ⋅    \n",
       "     ⋅          ⋅                     ⋅              0.707107-0.0im\n",
       "     ⋅          ⋅           -0.208073+0.454649im  …           ⋅    \n",
       "     ⋅      0.0-0.707107im    0.07056-0.494996im              ⋅    \n",
       "     ⋅          ⋅                     ⋅                  -0.5-0.0im\n",
       "     ⋅          ⋅                     ⋅                       ⋅    \n",
       "     ⋅          ⋅                     ⋅                       ⋅    "
      ]
     },
     "execution_count": 16,
     "metadata": {},
     "output_type": "execute_result"
    }
   ],
   "source": [
    "function HMTA(ChernAlpha, Tx, Ty)\n",
    "    STA = SparseOperator(b_mb_b)\n",
    "    for m in 1:N\n",
    "        for n in 1:N\n",
    "            if m in PerBC()[n]\n",
    "                STA = STA + HPTA(m, n, Tx, Ty, ChernAlpha)*transition(b_mb_b, m, n)\n",
    "            end\n",
    "        end\n",
    "    end\n",
    "    return STA\n",
    "end\n",
    "#------------------------\n",
    "#PROBLEM: QOJulia kütüphanesi öz-vektörleri kare matris şeklinde depolamıyor!\n",
    "#------------------------\n",
    "#ÇÖZÜM(Çok Yavaş):\n",
    "function EigVEC(ChernAlpha, Tx, Ty)\n",
    "    EigVec = spzeros(Complex{Float64},length(states),length(states))\n",
    "    for m in 1:length(states)\n",
    "        for n in 1:length(states)\n",
    "            EigVec[m,n]=eigenstates(dense(HMTA(ChernAlpha, Tx, Ty)))[2][m].data[n]\n",
    "        end\n",
    "    end\n",
    "    return EigVec\n",
    "end\n",
    "EigVEC(ChernAlpha, 2, 3)"
   ]
  },
  {
   "cell_type": "code",
   "execution_count": null,
   "id": "d16c6455",
   "metadata": {},
   "outputs": [],
   "source": [
    "ChernArray = zeros(Complex{Float64},0)\n",
    "for i in range(start=1, stop=Nx*Ny, step=q) \n",
    "    j=i+q\n",
    "    Sum=0\n",
    "    n1=i\n",
    "    n2=j\n",
    "    for tx in range(start=1, stop=length(Tx))\n",
    "        for ty in range(start=1, stop=length(Ty))\n",
    "            w1=eigenstates(dense(HMTA(ChernAlpha, Tx[tx], Ty[ty])))[1]\n",
    "            v1=EigVEC(ChernAlpha, Tx[tx], Ty[ty])\n",
    "            idx1 = sortperm(w1)\n",
    "            v1sorted = v1[:,idx1]\n",
    "            v11 = v1sorted[:,n1:n2]\n",
    "            #------------------------------------\n",
    "            w2=eigenstates(dense(HMTA(ChernAlpha, Tx[tx]+dx, Ty[ty])))[1]\n",
    "            v2=EigVEC(ChernAlpha, Tx[tx]+dx, Ty[ty])\n",
    "            idx2 = sortperm(w2)\n",
    "            v2sorted = v2[:,idx2]\n",
    "            v22 = v2sorted[:,n1:n2]\n",
    "            #------------------------------------\n",
    "            w3=eigenstates(dense(HMTA(ChernAlpha, Tx[tx], Ty[ty]+dy)))[1]\n",
    "            v3=EigVEC(ChernAlpha, Tx[tx], Ty[ty]+dy)\n",
    "            idx3 = sortperm(w3)\n",
    "            v3sorted = v3[:,idx3]\n",
    "            v33 = v3sorted[:,n1:n2]\n",
    "            #------------------------------------\n",
    "            w4=eigenstates(dense(HMTA(ChernAlpha, Tx[tx]+dx, Ty[ty]+dy)))[1]\n",
    "            v4=EigVEC(ChernAlpha, Tx[tx]+dx, Ty[ty]+dy)\n",
    "            idx4 = sortperm(w4)\n",
    "            v4sorted = v4[:,idx4]\n",
    "            v44 = v4sorted[:,n1:n2]\n",
    "            #----------LINK VARIABLES------------\n",
    "            U1=det(adjoint(v11)*v22)\n",
    "            U1=U1/abs(U1)\n",
    "            U2=det(adjoint(v22)*v44)\n",
    "            U2=U2/abs(U2)\n",
    "            U3=det(adjoint(v33)*v44)\n",
    "            U3=U3/abs(U3)\n",
    "            U4=det(adjoint(v11)*v33)\n",
    "            U4=U4/abs(U4)\n",
    "            #----------BERRY CURVATURE-----------\n",
    "            F=log(U1*U2*1/U3*1/U4)\n",
    "            Sum=Sum+F\n",
    "        end\n",
    "    end\n",
    "    Chern=1/(2*pi*1im)*Sum\n",
    "    append!(ChernArray, real(Chern))\n",
    "end\n",
    "ChernArray"
   ]
  },
  {
   "cell_type": "markdown",
   "id": "9c1ed16a",
   "metadata": {},
   "source": [
    "# Expected Values"
   ]
  },
  {
   "cell_type": "code",
   "execution_count": 14,
   "id": "d50f82f5",
   "metadata": {
    "scrolled": true
   },
   "outputs": [
    {
     "data": {
      "text/latex": [
       "Unrecognized magic \\texttt{\\%\\%capture}.\n",
       "\n",
       "Julia does not use the IPython \\texttt{\\%magic} syntax.   To interact with the IJulia kernel, use \\texttt{IJulia.somefunction(...)}, for example.  Julia macros, string macros, and functions can be used to accomplish most of the other functionalities of IPython magics.\n",
       "\n"
      ],
      "text/markdown": [
       "Unrecognized magic `%%capture`.\n",
       "\n",
       "Julia does not use the IPython `%magic` syntax.   To interact with the IJulia kernel, use `IJulia.somefunction(...)`, for example.  Julia macros, string macros, and functions can be used to accomplish most of the other functionalities of IPython magics.\n"
      ],
      "text/plain": [
       "  Unrecognized magic \u001b[36m%%capture\u001b[39m.\n",
       "\n",
       "  Julia does not use the IPython \u001b[36m%magic\u001b[39m syntax. To interact with the IJulia\n",
       "  kernel, use \u001b[36mIJulia.somefunction(...)\u001b[39m, for example. Julia macros, string\n",
       "  macros, and functions can be used to accomplish most of the other\n",
       "  functionalities of IPython magics."
      ]
     },
     "metadata": {},
     "output_type": "display_data"
    }
   ],
   "source": [
    "%%capture\n",
    "A = eigenstates(dense(S))"
   ]
  },
  {
   "cell_type": "markdown",
   "id": "6f477ca1",
   "metadata": {},
   "source": [
    "###### Parçacık Sayısı-Enerji Dağılımı"
   ]
  },
  {
   "cell_type": "code",
   "execution_count": 13,
   "id": "086249e6",
   "metadata": {},
   "outputs": [
    {
     "name": "stdout",
     "output_type": "stream",
     "text": [
      "15×2 Matrix{Float64}:\n",
      " 0.0   0.0\n",
      " 1.0  -1.84776\n",
      " 1.0  -0.765367\n",
      " 1.0   0.765367\n",
      " 1.0   1.84776\n",
      " 2.0  -3.69552\n",
      " 2.0  -2.61313\n",
      " 2.0  -1.53073\n",
      " 2.0  -1.08239\n",
      " 2.0  -8.88178e-16\n",
      " 2.0  -3.40785e-17\n",
      " 2.0   1.08239\n",
      " 2.0   1.53073\n",
      " 2.0   2.61313\n",
      " 2.0   3.69552"
     ]
    }
   ],
   "source": [
    "C = Array{Float64}(undef, length(states), 2)\n",
    "for i in 1:length(states)\n",
    "    exp = round(expect(number(b_mb_b), A[2][i])) #expected values\n",
    "    C[i] = exp #expected values (first column)\n",
    "    C[i,2] = A[1][i] #eigen-values (second column)\n",
    "end\n",
    "C\n",
    "CC = sortslices(C, dims=1 ,by = x -> x[1]) #sorted according to particle numbers\n",
    "show(stdout, \"text/plain\", CC)"
   ]
  },
  {
   "cell_type": "markdown",
   "id": "a33b2a58",
   "metadata": {},
   "source": [
    "###### Parçacık Sayısı-Açılım Katsayısı Dağılımı"
   ]
  },
  {
   "cell_type": "code",
   "execution_count": 15,
   "id": "3b0a420c",
   "metadata": {},
   "outputs": [
    {
     "data": {
      "text/latex": [
       "Unrecognized magic \\texttt{\\%\\%capture}.\n",
       "\n",
       "Julia does not use the IPython \\texttt{\\%magic} syntax.   To interact with the IJulia kernel, use \\texttt{IJulia.somefunction(...)}, for example.  Julia macros, string macros, and functions can be used to accomplish most of the other functionalities of IPython magics.\n",
       "\n"
      ],
      "text/markdown": [
       "Unrecognized magic `%%capture`.\n",
       "\n",
       "Julia does not use the IPython `%magic` syntax.   To interact with the IJulia kernel, use `IJulia.somefunction(...)`, for example.  Julia macros, string macros, and functions can be used to accomplish most of the other functionalities of IPython magics.\n"
      ],
      "text/plain": [
       "  Unrecognized magic \u001b[36m%%capture\u001b[39m.\n",
       "\n",
       "  Julia does not use the IPython \u001b[36m%magic\u001b[39m syntax. To interact with the IJulia\n",
       "  kernel, use \u001b[36mIJulia.somefunction(...)\u001b[39m, for example. Julia macros, string\n",
       "  macros, and functions can be used to accomplish most of the other\n",
       "  functionalities of IPython magics."
      ]
     },
     "metadata": {},
     "output_type": "display_data"
    }
   ],
   "source": [
    "%%capture\n",
    "j = 11"
   ]
  },
  {
   "cell_type": "code",
   "execution_count": 16,
   "id": "9a74405f",
   "metadata": {},
   "outputs": [
    {
     "data": {
      "text/plain": [
       "1.0823922002923951"
      ]
     },
     "execution_count": 16,
     "metadata": {},
     "output_type": "execute_result"
    }
   ],
   "source": [
    "A[1][j] #2 parçacıklı baz vektörü enerjisi"
   ]
  },
  {
   "cell_type": "code",
   "execution_count": 17,
   "id": "b95849a4",
   "metadata": {},
   "outputs": [
    {
     "data": {
      "text/plain": [
       "Ket(dim=15)\n",
       "  basis: ManyBody(onebodybasis=NLevel(N=4), states:15)\n",
       "                  0.0 + 0.0im\n",
       "                  0.0 + 0.0im\n",
       "                  0.0 + 0.0im\n",
       "                  0.0 + 0.0im\n",
       "                  0.0 + 0.0im\n",
       "              7.0e-17 + 0.35355339059327234im\n",
       "  0.32664074121909525 - 0.13529902503654884im\n",
       "  -0.3266407412190954 - 0.13529902503654873im\n",
       "              3.6e-16 + 3.6e-16im\n",
       " -0.25000000000000056 - 0.24999999999999983im\n",
       "             -1.0e-17 - 1.17e-15im\n",
       "   0.3266407412190937 + 0.1352990250365496im\n",
       "   0.2500000000000004 - 0.25000000000000006im\n",
       "  0.13529902503654995 + 0.32664074121909364im\n",
       " -0.35355339059327295 - 0.0im"
      ]
     },
     "execution_count": 17,
     "metadata": {},
     "output_type": "execute_result"
    }
   ],
   "source": [
    "A[2][j] #Bu baz vektöre karşılık gelen özvektörde vakum ve tek parçacıklı baz vektörleri\n",
    "#açılım katsayıları sıfırdır."
   ]
  },
  {
   "cell_type": "code",
   "execution_count": 19,
   "id": "ea9fed15",
   "metadata": {},
   "outputs": [
    {
     "name": "stdout",
     "output_type": "stream",
     "text": [
      "0.0\n",
      "0.0\n",
      "0.0\n",
      "0.0\n",
      "0.0\n",
      "0.35355339059327234\n",
      "0.3535533905932746\n",
      "0.35355339059327473\n",
      "5.102800490722269e-16\n",
      "0.35355339059327406\n",
      "1.1658167788096346e-15\n",
      "0.3535533905932735\n",
      "0.35355339059327406\n",
      "0.35355339059327356\n",
      "0.35355339059327295\n"
     ]
    }
   ],
   "source": [
    "#Yukarıdaki hesaplanan özvektör içerisindeki baz vektörlerin ağırlıkları\n",
    "for i in 1:length(states)    \n",
    "    println(abs(A[2][j].data[i]))\n",
    "end"
   ]
  }
 ],
 "metadata": {
  "kernelspec": {
   "display_name": "Julia 1.7.2",
   "language": "julia",
   "name": "julia-1.7"
  },
  "language_info": {
   "file_extension": ".jl",
   "mimetype": "application/julia",
   "name": "julia",
   "version": "1.7.2"
  }
 },
 "nbformat": 4,
 "nbformat_minor": 5
}
