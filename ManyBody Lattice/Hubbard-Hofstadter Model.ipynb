{
 "cells": [
  {
   "cell_type": "markdown",
   "id": "f7ba2ad4",
   "metadata": {},
   "source": [
    "# Libraries"
   ]
  },
  {
   "cell_type": "code",
   "execution_count": 1,
   "id": "a9592b14",
   "metadata": {},
   "outputs": [],
   "source": [
    "using QuantumOptics\n",
    "using LinearAlgebra\n",
    "using SparseArrays"
   ]
  },
  {
   "cell_type": "markdown",
   "id": "7c55aa29",
   "metadata": {},
   "source": [
    "# Fock Space"
   ]
  },
  {
   "cell_type": "code",
   "execution_count": 2,
   "id": "252cd4db",
   "metadata": {},
   "outputs": [
    {
     "data": {
      "text/plain": [
       "36"
      ]
     },
     "execution_count": 2,
     "metadata": {},
     "output_type": "execute_result"
    }
   ],
   "source": [
    "Nx = Ny = 6\n",
    "N = Nx*Ny"
   ]
  },
  {
   "cell_type": "code",
   "execution_count": 3,
   "id": "e2a2cf04",
   "metadata": {},
   "outputs": [],
   "source": [
    "max_occupation_number = 3\n",
    "occ_array = []\n",
    "for i in 0:max_occupation_number\n",
    "    push!(occ_array, i)\n",
    "end"
   ]
  },
  {
   "cell_type": "code",
   "execution_count": 4,
   "id": "d42a9ff3",
   "metadata": {},
   "outputs": [
    {
     "data": {
      "text/plain": [
       "ManyBody(onebodybasis=NLevel(N=36), states:9139)"
      ]
     },
     "execution_count": 4,
     "metadata": {},
     "output_type": "execute_result"
    }
   ],
   "source": [
    "b = NLevelBasis(N)\n",
    "states = bosonstates(b, [occ_array...])\n",
    "b_mb = ManyBodyBasis(b, states)"
   ]
  },
  {
   "cell_type": "markdown",
   "id": "2a32ac5c",
   "metadata": {},
   "source": [
    "# PBC on Lattice"
   ]
  },
  {
   "cell_type": "code",
   "execution_count": 5,
   "id": "7927b28e",
   "metadata": {},
   "outputs": [],
   "source": [
    "using OffsetArrays"
   ]
  },
  {
   "cell_type": "code",
   "execution_count": 6,
   "id": "2b137759",
   "metadata": {},
   "outputs": [
    {
     "data": {
      "text/plain": [
       "6×6 OffsetArray(reshape(::UnitRange{Int64}, 6, 6), 0:5, 0:5) with eltype Int64 with indices 0:5×0:5:\n",
       " 1   7  13  19  25  31\n",
       " 2   8  14  20  26  32\n",
       " 3   9  15  21  27  33\n",
       " 4  10  16  22  28  34\n",
       " 5  11  17  23  29  35\n",
       " 6  12  18  24  30  36"
      ]
     },
     "execution_count": 6,
     "metadata": {},
     "output_type": "execute_result"
    }
   ],
   "source": [
    "lat = range(1,Nx*Ny)\n",
    "latt = reshape(lat, (Nx,Ny))\n",
    "lattice = OffsetArray(latt, 0:Nx-1, 0:Ny-1)\n",
    "x_co = range(0, Nx-1) \n",
    "y_co = range(0, Ny-1)\n",
    "arr = []\n",
    "for i in 1:length(x_co)\n",
    "    for j in 1:length(y_co)\n",
    "       arr = [arr;x_co[i];y_co[j]]\n",
    "    end\n",
    "end\n",
    "xy = reshape(arr, (2,Nx*Ny)) |> transpose\n",
    "arr = OffsetArray(arr,0:Nx*Ny*2-1)\n",
    "lattice"
   ]
  },
  {
   "cell_type": "code",
   "execution_count": 7,
   "id": "7d3b1443",
   "metadata": {},
   "outputs": [
    {
     "name": "stdout",
     "output_type": "stream",
     "text": [
      "1: [31, 2, 7, 6]\n",
      "2: [32, 3, 8, 1]\n",
      "3: [33, 4, 9, 2]\n",
      "4: [34, 5, 10, 3]\n",
      "5: [35, 6, 11, 4]\n",
      "6: [36, 1, 12, 5]\n",
      "7: [1, 8, 13, 12]\n",
      "8: [2, 9, 14, 7]\n",
      "9: [3, 10, 15, 8]\n",
      "10: [4, 11, 16, 9]\n",
      "11: [5, 12, 17, 10]\n",
      "12: [6, 7, 18, 11]\n",
      "13: [7, 14, 19, 18]\n",
      "14: [8, 15, 20, 13]\n",
      "15: [9, 16, 21, 14]\n",
      "16: [10, 17, 22, 15]\n",
      "17: [11, 18, 23, 16]\n",
      "18: [12, 13, 24, 17]\n",
      "19: [13, 20, 25, 24]\n",
      "20: [14, 21, 26, 19]\n",
      "21: [15, 22, 27, 20]\n",
      "22: [16, 23, 28, 21]\n",
      "23: [17, 24, 29, 22]\n",
      "24: [18, 19, 30, 23]\n",
      "25: [19, 26, 31, 30]\n",
      "26: [20, 27, 32, 25]\n",
      "27: [21, 28, 33, 26]\n",
      "28: [22, 29, 34, 27]\n",
      "29: [23, 30, 35, 28]\n",
      "30: [24, 25, 36, 29]\n",
      "31: [25, 32, 1, 36]\n",
      "32: [26, 33, 2, 31]\n",
      "33: [27, 34, 3, 32]\n",
      "34: [28, 35, 4, 33]\n",
      "35: [29, 36, 5, 34]\n",
      "36: [30, 31, 6, 35]\n"
     ]
    }
   ],
   "source": [
    "x = []\n",
    "function PerBC()\n",
    "    for i in 0:Nx-1\n",
    "        for j in 0:Ny-1        \n",
    "            cc = [lattice[mod(j,Ny),mod(i-1,Nx)],lattice[mod(j+1,Ny),mod(i,Nx)],lattice[mod(j,Ny),mod(i+1,Nx)],lattice[mod(j-1,Ny),mod(i,Nx)]]\n",
    "            push!(x,cc)\n",
    "        end\n",
    "    end\n",
    "    return x\n",
    "end\n",
    "for i in 1:N\n",
    "    println(\"$i: \", PerBC()[i])\n",
    "end"
   ]
  },
  {
   "cell_type": "markdown",
   "id": "a3d2a27d",
   "metadata": {},
   "source": [
    "# Hopping Phases"
   ]
  },
  {
   "cell_type": "code",
   "execution_count": 8,
   "id": "96418ae7",
   "metadata": {},
   "outputs": [
    {
     "data": {
      "text/plain": [
       "HP (generic function with 1 method)"
      ]
     },
     "execution_count": 8,
     "metadata": {},
     "output_type": "execute_result"
    }
   ],
   "source": [
    "function HP(m, n, alpha)\n",
    "    if abs(xy[m,1]-xy[n,1])==Nx-1\n",
    "        if xy[m,1] > xy[n,1]\n",
    "            P = exp(-1im*2*pi*alpha*xy[m,2])\n",
    "        elseif xy[m,1] < xy[n,1]\n",
    "            P = exp(1im*2*pi*alpha*xy[m,2])\n",
    "        end\n",
    "    elseif m==n\n",
    "        P = 0\n",
    "    else\n",
    "        if xy[m,1] > xy[n,1]\n",
    "            P = exp(1im*2*pi*alpha*xy[m,2])\n",
    "        elseif xy[m,1] < xy[n,1]\n",
    "            P = exp(-1im*2*pi*alpha*xy[m,2])\n",
    "        else\n",
    "            P = exp(0)\n",
    "        end\n",
    "    end\n",
    "end "
   ]
  },
  {
   "cell_type": "markdown",
   "id": "e26582dc",
   "metadata": {},
   "source": [
    "# Hofstadter-Hubbard Hamiltonian"
   ]
  },
  {
   "cell_type": "markdown",
   "id": "bcf1eeae",
   "metadata": {},
   "source": [
    "\\begin{align}\n",
    "&N/N_{\\alpha}=1/2 \\\\\n",
    "&N_{\\alpha}=N_xN_y\\alpha\n",
    "\\end{align}"
   ]
  },
  {
   "cell_type": "code",
   "execution_count": 9,
   "id": "bb95d063",
   "metadata": {},
   "outputs": [
    {
     "data": {
      "text/plain": [
       "0.5"
      ]
     },
     "execution_count": 9,
     "metadata": {},
     "output_type": "execute_result"
    }
   ],
   "source": [
    "4/(8*8*1/8) #Topological Degeneracy"
   ]
  },
  {
   "cell_type": "code",
   "execution_count": 10,
   "id": "97959dc2",
   "metadata": {},
   "outputs": [
    {
     "data": {
      "text/plain": [
       "2"
      ]
     },
     "execution_count": 10,
     "metadata": {},
     "output_type": "execute_result"
    }
   ],
   "source": [
    "alpha = 1/6\n",
    "t = 1\n",
    "U = 2"
   ]
  },
  {
   "cell_type": "code",
   "execution_count": null,
   "id": "e62ac2a9",
   "metadata": {},
   "outputs": [],
   "source": [
    "#kinetic term\n",
    "KT = SparseOperator(b_mb)\n",
    "#interaction term\n",
    "IT = SparseOperator(b_mb)\n",
    "for m in 1:N\n",
    "    IT = IT + U/2 * number(b_mb, m) * (number(b_mb, m) - identityoperator(b_mb))\n",
    "    for n in 1:N\n",
    "        if m in PerBC()[n]\n",
    "            KT = KT - t * HP(m, n, alpha) * transition(b_mb, m, n)\n",
    "        end\n",
    "    end\n",
    "end\n",
    "HH = KT + IT\n",
    "eigenenergies(dense(HH))[1]"
   ]
  },
  {
   "cell_type": "markdown",
   "id": "1a51ffa9",
   "metadata": {},
   "source": [
    "###### Laughlin States"
   ]
  },
  {
   "cell_type": "code",
   "execution_count": null,
   "id": "af5569c2",
   "metadata": {},
   "outputs": [],
   "source": [
    "using Plots\n",
    "eig = eigenenergies(dense(HH))\n",
    "x=1:length(eig)\n",
    "gr()\n",
    "plot(x, eig, seriestype = :scatter, xlabel=\"Öz-Değer Sırası\", ylabel=\"Enerjiler\", markersize = 5, label=\"U=2\", legend = :outertopleft)"
   ]
  },
  {
   "cell_type": "markdown",
   "id": "f3be1c44",
   "metadata": {},
   "source": [
    "# Calculate The Expected Values"
   ]
  },
  {
   "cell_type": "code",
   "execution_count": 24,
   "id": "045f918f",
   "metadata": {},
   "outputs": [
    {
     "data": {
      "text/plain": [
       "([-2.6936047825375495, -1.9021130325903024, -0.8744137645212482, -0.6180339887498945, -0.00635110067271949, -0.0016488562721854727, 0.0, 0.6180339887498965, 0.8736498324987707, 1.902113032590307, 2.6863687145603, 1000.0007639320219, 1000.0016488562711, 1000.0063511006717, 1000.0072360679766], Ket{ManyBodyBasis{Vector{Int64}, NLevelBasis{Int64}, 0xd7173e7347b478b9, UInt64}, Vector{ComplexF64}}[Ket(dim=15)\n",
       "  basis: ManyBody(onebodybasis=NLevel(N=4), states:15)\n",
       "                  0.0 + 0.0im\n",
       "                  0.0 + 0.0im\n",
       "                  0.0 + 0.0im\n",
       "                  0.0 + 0.0im\n",
       "                  0.0 + 0.0im\n",
       " -0.00029329910957497 - 0.00090268184100707im\n",
       "             2.08e-15 - 0.3537897988901847im\n",
       "  -0.2079524261991705 - 0.2862219597386506im\n",
       "  -0.4042363774833981 - 0.2936949196085103im\n",
       "  0.00029329910957479 - 0.00090268184100693im\n",
       " -0.15440455670951397 - 0.47520836224972873im\n",
       " -0.20795242619917395 - 0.2862219597386485im\n",
       " -0.00076786703773712 - 0.00055788805876974im\n",
       "  -0.3364740936332595 - 0.10932706029356702im\n",
       " -0.00094913585632482 - 0.0im, Ket(dim=15)\n",
       "  basis: ManyBody(onebodybasis=NLevel(N=4), states:15)\n",
       "                  0.0 + 0.0im\n",
       "  -0.4045084971874733 - 0.2938926261462363im\n",
       " -0.29389262614623674 - 0.4045084971874735im\n",
       "  -0.4755282581475767 - 0.15450849718747395im\n",
       "  -0.5000000000000007 + 0.0im\n",
       "                  0.0 + 0.0im\n",
       "                  0.0 + 0.0im\n",
       "                  0.0 + 0.0im\n",
       "                  0.0 + 0.0im\n",
       "                  0.0 + 0.0im\n",
       "                  0.0 + 0.0im\n",
       "                  0.0 + 0.0im\n",
       "                  0.0 + 0.0im\n",
       "                  0.0 + 0.0im\n",
       "                  0.0 + 0.0im, Ket(dim=15)\n",
       "  basis: ManyBody(onebodybasis=NLevel(N=4), states:15)\n",
       "                  0.0 + 0.0im\n",
       "                  0.0 + 0.0im\n",
       "                  0.0 + 0.0im\n",
       "                  0.0 + 0.0im\n",
       "                  0.0 + 0.0im\n",
       "    9.542888541644e-5 + 0.00029369990961697im\n",
       "  0.35363050146867364 - 2.58e-15im\n",
       "  -0.2860930854174698 + 0.20785879352410389im\n",
       "  -0.4044200992905642 - 0.29382840131469373im\n",
       "    9.542888541624e-5 - 0.00029369990961673im\n",
       "  0.15447473219541732 + 0.47542434018728186im\n",
       "  -0.2860930854175633 + 0.2078587935241407im\n",
       " -0.00024983606552826 - 0.00018151652663592im\n",
       "  0.10927783468315735 - 0.3363225927825922im\n",
       "  0.00030881436022416 + 0.0im, Ket(dim=15)\n",
       "  basis: ManyBody(onebodybasis=NLevel(N=4), states:15)\n",
       "                 0.0 + 0.0im\n",
       "  0.4045084971874736 + 0.29389262614623657im\n",
       " 0.40450849718747406 - 0.29389262614623674im\n",
       " -0.1545084971874738 + 0.4755282581475774im\n",
       " -0.4999999999999995 + 0.0im\n",
       "                 0.0 + 0.0im\n",
       "                 0.0 + 0.0im\n",
       "                 0.0 + 0.0im\n",
       "                 0.0 + 0.0im\n",
       "                 0.0 + 0.0im\n",
       "                 0.0 + 0.0im\n",
       "                 0.0 + 0.0im\n",
       "                 0.0 + 0.0im\n",
       "                 0.0 + 0.0im\n",
       "                 0.0 + 0.0im, Ket(dim=15)\n",
       "  basis: ManyBody(onebodybasis=NLevel(N=4), states:15)\n",
       "                  0.0 + 0.0im\n",
       "                  0.0 + 0.0im\n",
       "                  0.0 + 0.0im\n",
       "                  0.0 + 0.0im\n",
       "                  0.0 + 0.0im\n",
       "  0.00038938041946739 + 0.00119838970669316im\n",
       "   0.3535522678827263 + 0.3535522678756533im\n",
       " -0.07821698414507493 + 0.49384260208718656im\n",
       "           -1.803e-14 - 9.83e-15im\n",
       "  0.00119838970670532 + 0.00038938041947139im\n",
       "             6.05e-15 + 1.181e-14im\n",
       "  0.07821698414504288 - 0.49384260208715586im\n",
       "   -0.000740645570512 + 0.00101941117272964im\n",
       "  -0.4455018473896266 + 0.22699452904737377im\n",
       "  -0.0012600615065038 - 0.0im, Ket(dim=15)\n",
       "  basis: ManyBody(onebodybasis=NLevel(N=4), states:15)\n",
       "                  0.0 + 0.0im\n",
       "                  0.0 + 0.0im\n",
       "                  0.0 + 0.0im\n",
       "                  0.0 + 0.0im\n",
       "                  0.0 + 0.0im\n",
       " -0.00019840063263649 - 0.00061061436083034im\n",
       "   0.3535530991112978 - 0.3535530991182086im\n",
       " -0.49384376315898454 - 0.07821716804073604im\n",
       "            -2.45e-14 - 2.278e-14im\n",
       "  0.00061061436080659 + 0.00019840063262873im\n",
       "             4.67e-15 + 2.525e-14im\n",
       "  0.49384376315892614 + 0.0782171680407808im\n",
       " -0.00037738042899745 + 0.00051941959961135im\n",
       "   0.2269950627334214 + 0.44550289480753485im\n",
       "  0.00064203793399054 + 0.0im, Ket(dim=15)\n",
       "  basis: ManyBody(onebodybasis=NLevel(N=4), states:15)\n",
       " 1.0 + 0.0im\n",
       " 0.0 + 0.0im\n",
       " 0.0 + 0.0im\n",
       " 0.0 + 0.0im\n",
       " 0.0 + 0.0im\n",
       " 0.0 + 0.0im\n",
       " 0.0 + 0.0im\n",
       " 0.0 + 0.0im\n",
       " 0.0 + 0.0im\n",
       " 0.0 + 0.0im\n",
       " 0.0 + 0.0im\n",
       " 0.0 + 0.0im\n",
       " 0.0 + 0.0im\n",
       " 0.0 + 0.0im\n",
       " 0.0 + 0.0im, Ket(dim=15)\n",
       "  basis: ManyBody(onebodybasis=NLevel(N=4), states:15)\n",
       "                 0.0 + 0.0im\n",
       " -0.4045084971874744 - 0.2938926261462371im\n",
       "  0.4045084971874732 - 0.2938926261462366im\n",
       " -0.1545084971874739 + 0.4755282581475765im\n",
       " 0.49999999999999983 + 0.0im\n",
       "                 0.0 + 0.0im\n",
       "                 0.0 + 0.0im\n",
       "                 0.0 + 0.0im\n",
       "                 0.0 + 0.0im\n",
       "                 0.0 + 0.0im\n",
       "                 0.0 + 0.0im\n",
       "                 0.0 + 0.0im\n",
       "                 0.0 + 0.0im\n",
       "                 0.0 + 0.0im\n",
       "                 0.0 + 0.0im, Ket(dim=15)\n",
       "  basis: ManyBody(onebodybasis=NLevel(N=4), states:15)\n",
       "                  0.0 + 0.0im\n",
       "                  0.0 + 0.0im\n",
       "                  0.0 + 0.0im\n",
       "                  0.0 + 0.0im\n",
       "                  0.0 + 0.0im\n",
       "    9.555407917468e-5 + 0.00029408521638599im\n",
       "   0.3534759927464888 + 5.45e-15im\n",
       " -0.28596808523546685 + 0.2077679755758199im\n",
       "   0.4045968757706509 + 0.2939568369454768im\n",
       "     9.55540791747e-5 - 0.00029408521638624im\n",
       " -0.15454225480236994 - 0.4756321534031912im\n",
       "  -0.2859680852354918 + 0.20776797557582596im\n",
       " -0.00025016382704319 - 0.0001817546593156im\n",
       "  0.10923008886223154 - 0.3361756462554716im\n",
       "    0.000309219495737 + 0.0im, Ket(dim=15)\n",
       "  basis: ManyBody(onebodybasis=NLevel(N=4), states:15)\n",
       "                 0.0 + 0.0im\n",
       " 0.40450849718747334 + 0.29389262614623635im\n",
       " -0.2938926261462365 - 0.40450849718747384im\n",
       "  -0.475528258147577 - 0.15450849718747367im\n",
       "  0.5000000000000001 + 0.0im\n",
       "                 0.0 + 0.0im\n",
       "                 0.0 + 0.0im\n",
       "                 0.0 + 0.0im\n",
       "                 0.0 + 0.0im\n",
       "                 0.0 + 0.0im\n",
       "                 0.0 + 0.0im\n",
       "                 0.0 + 0.0im\n",
       "                 0.0 + 0.0im\n",
       "                 0.0 + 0.0im\n",
       "                 0.0 + 0.0im, Ket(dim=15)\n",
       "  basis: ManyBody(onebodybasis=NLevel(N=4), states:15)\n",
       "                 0.0 + 0.0im\n",
       "                 0.0 + 0.0im\n",
       "                 0.0 + 0.0im\n",
       "                 0.0 + 0.0im\n",
       "                 0.0 + 0.0im\n",
       " 0.00029448494644644 + 0.00090633147162414im\n",
       "             7.9e-16 + 0.35331426407284955im\n",
       " 0.20767291384659003 + 0.2858372439900155im\n",
       " -0.4047804339338909 - 0.29409019975743733im\n",
       " -0.0002944849464466 + 0.00090633147162425im\n",
       "  -0.154612367781817 - 0.4758479389657808im\n",
       "   0.207672913846584 + 0.28583724399001986im\n",
       "  0.0007709715989721 + 0.0005601436545374im\n",
       "  0.3360218331465111 + 0.10918011195358128im\n",
       " 0.00095297330505104 + 0.0im, Ket(dim=15)\n",
       "  basis: ManyBody(onebodybasis=NLevel(N=4), states:15)\n",
       "                  0.0 + 0.0im\n",
       "                  0.0 + 0.0im\n",
       "                  0.0 + 0.0im\n",
       "                  0.0 + 0.0im\n",
       "                  0.0 + 0.0im\n",
       "   0.1545084384102586 + 0.47552807679532im\n",
       " -0.00043701585715158 - 3.6327e-13im\n",
       "  0.00035355325502992 - 0.00025687147602277im\n",
       "     -4.3701552352e-7 - 3.1751036292e-7im\n",
       "   0.1545084376678476 - 0.47552807653845586im\n",
       "       1.669250765e-7 + 5.1374255944e-7im\n",
       "  0.00035355325593304 - 0.00025687147633423im\n",
       "  -0.4045083425526479 - 0.2938925142061299im\n",
       " -0.00013504532654363 + 0.00041562677946995im\n",
       "   0.4999998087192951 + 0.0im, Ket(dim=15)\n",
       "  basis: ManyBody(onebodybasis=NLevel(N=4), states:15)\n",
       "                  0.0 + 0.0im\n",
       "                  0.0 + 0.0im\n",
       "                  0.0 + 0.0im\n",
       "                  0.0 + 0.0im\n",
       "                  0.0 + 0.0im\n",
       "  -0.1545083698608939 - 0.47552786565096944im\n",
       " -0.00045398937713209 + 0.00045398937678725im\n",
       "   0.0006341333818706 + 0.00010043686034186im\n",
       "             -2.5e-16 - 4.8e-16im\n",
       "  0.47552786633182115 + 0.15450836942393426im\n",
       "              3.0e-17 + 1.0e-15im\n",
       " -0.00063413338136483 - 0.0001004368608031im\n",
       " -0.29389238398374334 + 0.40450816352107616im\n",
       " -0.00029147912287338 - 0.00057205998769747im\n",
       "  0.49999958818237905 - 0.0im, Ket(dim=15)\n",
       "  basis: ManyBody(onebodybasis=NLevel(N=4), states:15)\n",
       "                  0.0 + 0.0im\n",
       "                  0.0 + 0.0im\n",
       "                  0.0 + 0.0im\n",
       "                  0.0 + 0.0im\n",
       "                  0.0 + 0.0im\n",
       "  0.15450800647759869 + 0.4755267485235351im\n",
       " -0.00089099803561635 - 0.00089099803702251im\n",
       "  0.00019711704759294 - 0.00124454805923174im\n",
       "             2.28e-15 + 2.47e-15im\n",
       "   0.4755267479193308 + 0.15450800686774535im\n",
       "              1.9e-16 + 3.22e-15im\n",
       " -0.00019711704820215 + 0.00124454805754649im\n",
       "  -0.2938916927521848 + 0.4045072128205883im\n",
       "  0.00112272302248456 - 0.00057205595326372im\n",
       " -0.49999841188482647 - 0.0im, Ket(dim=15)\n",
       "  basis: ManyBody(onebodybasis=NLevel(N=4), states:15)\n",
       "                  0.0 + 0.0im\n",
       "                  0.0 + 0.0im\n",
       "                  0.0 + 0.0im\n",
       "                  0.0 + 0.0im\n",
       "                  0.0 + 0.0im\n",
       "  0.15450793794130555 + 0.4755265374194146im\n",
       "           9.5084e-13 - 0.00134499215721186im\n",
       " -0.00079056655454796 - 0.00108812151204929im\n",
       "     4.13943026778e-6 + 3.00747213205e-6im\n",
       " -0.15450793861366222 + 0.4755265376376067im\n",
       "     1.58112166762e-6 + 4.86619212892e-6im\n",
       " -0.00079056655456839 - 0.00108812151373677im\n",
       "   0.4045070337881352 + 0.2938915625458788im\n",
       " -0.00127916355640487 - 0.00041562543359762im\n",
       "   0.4999981912397931 + 0.0im])"
      ]
     },
     "execution_count": 24,
     "metadata": {},
     "output_type": "execute_result"
    }
   ],
   "source": [
    "A = eigenstates(dense(HH))"
   ]
  },
  {
   "cell_type": "markdown",
   "id": "8822b807",
   "metadata": {},
   "source": [
    "Örgüdeki parçacık sayı dağılımlarına karşılık gelen enerjiler"
   ]
  },
  {
   "cell_type": "code",
   "execution_count": 25,
   "id": "5cbc17f2",
   "metadata": {},
   "outputs": [
    {
     "data": {
      "text/plain": [
       "15×2 Matrix{Float64}:\n",
       " 0.0     0.0\n",
       " 1.0    -1.90211\n",
       " 1.0    -0.618034\n",
       " 1.0     0.618034\n",
       " 1.0     1.90211\n",
       " 2.0    -2.6936\n",
       " 2.0    -0.874414\n",
       " 2.0    -0.0063511\n",
       " 2.0    -0.00164886\n",
       " 2.0     0.87365\n",
       " 2.0     2.68637\n",
       " 2.0  1000.0\n",
       " 2.0  1000.0\n",
       " 2.0  1000.01\n",
       " 2.0  1000.01"
      ]
     },
     "execution_count": 25,
     "metadata": {},
     "output_type": "execute_result"
    }
   ],
   "source": [
    "C = Array{Float64}(undef, length(states), 2)\n",
    "for i in 1:length(states)\n",
    "    exp = round(expect(number(b_mb), A[2][i]))\n",
    "    C[i] = exp \n",
    "    C[i,2] = A[1][i]\n",
    "end\n",
    "C\n",
    "CC = sortslices(C, dims=1 ,by = x -> x[1])\n",
    "#show(stdout, \"text/plain\", CC)"
   ]
  },
  {
   "cell_type": "markdown",
   "id": "60bc0350",
   "metadata": {},
   "source": [
    "###### Data frame from Matrix"
   ]
  },
  {
   "cell_type": "code",
   "execution_count": 13,
   "id": "f4e8c5cb",
   "metadata": {},
   "outputs": [],
   "source": [
    "using DataFrames"
   ]
  },
  {
   "cell_type": "code",
   "execution_count": 14,
   "id": "49f405ae",
   "metadata": {},
   "outputs": [
    {
     "data": {
      "text/html": [
       "<div class=\"data-frame\"><p>15 rows × 2 columns</p><table class=\"data-frame\"><thead><tr><th></th><th>Parçacık_Sayısı</th><th>Enerji</th></tr><tr><th></th><th title=\"Float64\">Float64</th><th title=\"Float64\">Float64</th></tr></thead><tbody><tr><th>1</th><td>0.0</td><td>0.0</td></tr><tr><th>2</th><td>1.0</td><td>-1.90211</td></tr><tr><th>3</th><td>1.0</td><td>-0.618034</td></tr><tr><th>4</th><td>1.0</td><td>0.618034</td></tr><tr><th>5</th><td>1.0</td><td>1.90211</td></tr><tr><th>6</th><td>2.0</td><td>-2.6936</td></tr><tr><th>7</th><td>2.0</td><td>-0.874414</td></tr><tr><th>8</th><td>2.0</td><td>-0.0063511</td></tr><tr><th>9</th><td>2.0</td><td>-0.00164886</td></tr><tr><th>10</th><td>2.0</td><td>0.87365</td></tr><tr><th>11</th><td>2.0</td><td>2.68637</td></tr><tr><th>12</th><td>2.0</td><td>1000.0</td></tr><tr><th>13</th><td>2.0</td><td>1000.0</td></tr><tr><th>14</th><td>2.0</td><td>1000.01</td></tr><tr><th>15</th><td>2.0</td><td>1000.01</td></tr></tbody></table></div>"
      ],
      "text/latex": [
       "\\begin{tabular}{r|cc}\n",
       "\t& Parçacık\\_Sayısı & Enerji\\\\\n",
       "\t\\hline\n",
       "\t& Float64 & Float64\\\\\n",
       "\t\\hline\n",
       "\t1 & 0.0 & 0.0 \\\\\n",
       "\t2 & 1.0 & -1.90211 \\\\\n",
       "\t3 & 1.0 & -0.618034 \\\\\n",
       "\t4 & 1.0 & 0.618034 \\\\\n",
       "\t5 & 1.0 & 1.90211 \\\\\n",
       "\t6 & 2.0 & -2.6936 \\\\\n",
       "\t7 & 2.0 & -0.874414 \\\\\n",
       "\t8 & 2.0 & -0.0063511 \\\\\n",
       "\t9 & 2.0 & -0.00164886 \\\\\n",
       "\t10 & 2.0 & 0.87365 \\\\\n",
       "\t11 & 2.0 & 2.68637 \\\\\n",
       "\t12 & 2.0 & 1000.0 \\\\\n",
       "\t13 & 2.0 & 1000.0 \\\\\n",
       "\t14 & 2.0 & 1000.01 \\\\\n",
       "\t15 & 2.0 & 1000.01 \\\\\n",
       "\\end{tabular}\n"
      ],
      "text/plain": [
       "\u001b[1m15×2 DataFrame\u001b[0m\n",
       "\u001b[1m Row \u001b[0m│\u001b[1m Parçacık_Sayısı \u001b[0m\u001b[1m Enerji        \u001b[0m\n",
       "\u001b[1m     \u001b[0m│\u001b[90m Float64         \u001b[0m\u001b[90m Float64       \u001b[0m\n",
       "─────┼────────────────────────────────\n",
       "   1 │             0.0     0.0\n",
       "   2 │             1.0    -1.90211\n",
       "   3 │             1.0    -0.618034\n",
       "   4 │             1.0     0.618034\n",
       "   5 │             1.0     1.90211\n",
       "   6 │             2.0    -2.6936\n",
       "   7 │             2.0    -0.874414\n",
       "   8 │             2.0    -0.0063511\n",
       "   9 │             2.0    -0.00164886\n",
       "  10 │             2.0     0.87365\n",
       "  11 │             2.0     2.68637\n",
       "  12 │             2.0  1000.0\n",
       "  13 │             2.0  1000.0\n",
       "  14 │             2.0  1000.01\n",
       "  15 │             2.0  1000.01"
      ]
     },
     "execution_count": 14,
     "metadata": {},
     "output_type": "execute_result"
    }
   ],
   "source": [
    "df = DataFrame(CC, :auto)\n",
    "rename!(df,:x1 => :Parçacık_Sayısı)\n",
    "rename!(df,:x2 => :Enerji)"
   ]
  },
  {
   "cell_type": "markdown",
   "id": "97b9b0d0",
   "metadata": {},
   "source": [
    "# Hard-Core Interaction"
   ]
  },
  {
   "cell_type": "markdown",
   "id": "c2924da4",
   "metadata": {},
   "source": [
    "Örgüde en fazla 2 parçacık varken, her sitede en fazla 1 parçacık bulunma etkileşimi"
   ]
  },
  {
   "cell_type": "code",
   "execution_count": 14,
   "id": "8a7835ad",
   "metadata": {},
   "outputs": [
    {
     "name": "stdout",
     "output_type": "stream",
     "text": [
      "1: [1, 1, 0, 0]\n",
      "2: [1, 0, 1, 0]\n",
      "3: [1, 0, 0, 1]\n",
      "4: [0, 1, 1, 0]\n",
      "5: [0, 1, 0, 1]\n",
      "6: [0, 0, 1, 1]\n"
     ]
    }
   ],
   "source": [
    "b_hard = NLevelBasis(N)\n",
    "states_hard = fermionstates(b_hard, [2])\n",
    "b_mb_hard = ManyBodyBasis(b_hard, states_hard)\n",
    "for i in 1:length(states_hard)\n",
    "    println(\"$i: \", states_hard[i])\n",
    "end"
   ]
  },
  {
   "cell_type": "code",
   "execution_count": 15,
   "id": "5704ff70",
   "metadata": {},
   "outputs": [
    {
     "data": {
      "text/plain": [
       "6-element Vector{Float64}:\n",
       " -2.6899940478558286\n",
       " -0.8740320488976425\n",
       " -2.0339045907339023e-16\n",
       "  1.2839680890234273e-16\n",
       "  0.8740320488976425\n",
       "  2.6899940478558286"
      ]
     },
     "execution_count": 15,
     "metadata": {},
     "output_type": "execute_result"
    }
   ],
   "source": [
    "UU=2\n",
    "#kinetic term\n",
    "KT_hard = SparseOperator(b_mb_hard)\n",
    "#interaction term\n",
    "IT_hard = SparseOperator(b_mb_hard)\n",
    "for m in 1:N\n",
    "    IT_hard = IT_hard + UU/2 * number(b_mb_hard, m) * (number(b_mb_hard, m) - identityoperator(b_mb_hard))\n",
    "    for n in 1:N\n",
    "        if m in PerBC()[n]\n",
    "            KT_hard = KT_hard - t * HP(m, n, alpha) * transition(b_mb_hard, m, n)\n",
    "        end\n",
    "    end\n",
    "end\n",
    "HH_hard = KT_hard + IT_hard\n",
    "eigenenergies(dense(HH_hard))\n",
    "#Bu enerji seviyeleri, U çok büyükken, yukarıdaki Hamiltonyende (parçacık=2 ve oc. num=2) iki parçacıklı durumların enerjilerine denk düşüyor."
   ]
  },
  {
   "cell_type": "code",
   "execution_count": null,
   "id": "48c63df6",
   "metadata": {},
   "outputs": [],
   "source": []
  }
 ],
 "metadata": {
  "kernelspec": {
   "display_name": "Julia 1.7.2",
   "language": "julia",
   "name": "julia-1.7"
  },
  "language_info": {
   "file_extension": ".jl",
   "mimetype": "application/julia",
   "name": "julia",
   "version": "1.7.2"
  }
 },
 "nbformat": 4,
 "nbformat_minor": 5
}
